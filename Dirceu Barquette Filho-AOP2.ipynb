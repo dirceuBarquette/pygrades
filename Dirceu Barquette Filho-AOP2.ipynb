{
  "nbformat": 4,
  "nbformat_minor": 0,
  "metadata": {
    "colab": {
      "provenance": []
    },
    "kernelspec": {
      "name": "python3",
      "display_name": "Python 3"
    },
    "language_info": {
      "name": "python"
    }
  },
  "cells": [
    {
      "cell_type": "markdown",
      "source": [
        "<?xml version=\"1.0\" encoding=\"UTF-8\"?>\n",
        "<html>\n",
        "  <body>\n",
        "    <header></header>\n",
        "        <CENTER>\n",
        "          <img src=\"https://www.uvv.br/wp-content/themes/uvvBr/templates/assets//img/logouvv.svg\" alt=\"UVV-LOGO\" style = width=\"100px\"; height=\"100px\">\n",
        "        </CENTER>\n",
        "        <CENTER><b>Introdução à Programação de Computadores - PYTHON</b></CENTER>\n",
        "        <CENTER><b>Prof.: Fabricio Ribeiro Ferreira</b>\n",
        "        <CENTER><b>Tutor: Edgar Salardani Senhorello</b>\n",
        "        <CENTER><b>ATIVIDADE ONLINE PONTUADA 2</b></CENTER><br/>"
      ],
      "metadata": {
        "id": "DQK3cj6S3PCI"
      }
    },
    {
      "cell_type": "markdown",
      "source": [
        "Nome do Aluno: Dirceu Barquette Filho"
      ],
      "metadata": {
        "id": "WPSPpcLu3bu3"
      }
    },
    {
      "cell_type": "code",
      "source": [
        "def evalGrade (testType, grade) :\n",
        "  test = {\n",
        "      \"aop1\": [0.0, 1.0],\n",
        "      \"aop2\": [0.0, 2.0],\n",
        "      \"aop3\": [0.0, 1.0],\n",
        "      \"regT\": [0.0, 6,0],\n",
        "      \"recT\": [0.0, 10.0]\n",
        "      }\n",
        "  if (grade >= test[testType][0]) & (grade <= test[testType][1]):\n",
        "    return True\n",
        "  else:\n",
        "    return False"
      ],
      "metadata": {
        "id": "laC7GIKD3g5S"
      },
      "execution_count": null,
      "outputs": []
    },
    {
      "cell_type": "code",
      "source": [
        "def studentStatus (grade) :\n",
        "  match grade :\n",
        "    case _ if grade <= 3 :\n",
        "      return 0\n",
        "    case _ if grade < 7 :\n",
        "      return 1\n",
        "    case _ :\n",
        "      return 2"
      ],
      "metadata": {
        "id": "EYAITqkNwwd_"
      },
      "execution_count": null,
      "outputs": []
    },
    {
      "cell_type": "code",
      "source": [
        "def secondChance (sm, recGrade) :\n",
        "  return (sm + recGrade) / 2"
      ],
      "metadata": {
        "id": "9L8Ppqot5i4N"
      },
      "execution_count": null,
      "outputs": []
    },
    {
      "cell_type": "code",
      "source": [
        "def statusOption (op) :\n",
        "  options = [\"Reprovado\",\"Prova de recuperação\",\"Aprovado\"]\n",
        "  return options[op]"
      ],
      "metadata": {
        "id": "UhJ0IAwb7cEz"
      },
      "execution_count": null,
      "outputs": []
    },
    {
      "cell_type": "code",
      "source": [
        "askInputs = [ [\"aop1\" , \"Digite a Nota da Atividade Online Pontuada 1: \"]\n",
        "            , [\"aop2\" , \"Digite a Nota da Atividade Online Pontuada 2: \"]\n",
        "            , [\"aop3\" , \"Digite a Nota da Atividade Online Pontuada 3: \"]\n",
        "            , [\"regT\" , \"Digite a Nota da PROVA REGULAR: \"]\n",
        "            ]"
      ],
      "metadata": {
        "id": "Zjxa9zFc_gm8"
      },
      "execution_count": null,
      "outputs": []
    },
    {
      "cell_type": "code",
      "source": [
        "def totalModule (obj) :\n",
        "  total = 0\n",
        "  exams = {}\n",
        "  #exam = {\"AOP1\":0, \"AOP2\":0, \"AOP3\":0, \"PROVA REGULAR\":0}\n",
        "  for ask in obj :\n",
        "    userInput = float (input (ask[1]))\n",
        "    while not (evalGrade (ask[0], userInput)) :\n",
        "      print (\"Nota Inválida!\")\n",
        "      userInput = float (input (ask[1]))\n",
        "    total += userInput\n",
        "    exams.update ({ask[0] : userInput})\n",
        "  return (exams, total)"
      ],
      "metadata": {
        "id": "Lw2DrQDoECao"
      },
      "execution_count": null,
      "outputs": []
    },
    {
      "cell_type": "code",
      "source": [
        "def getStudantGrades () :\n",
        "  (exams, regularGrades) = totalModule (askInputs)\n",
        "  status = studentStatus (regularGrades)\n",
        "  print (\"Soma do Módulo (SM) = AOP1 + APO2 + AOP3 + PROVA REGULAR\")\n",
        "  print (f'Soma do Módulo (SM) = {exams[\"aop1\"]} + {exams[\"aop2\"]} + {exams[\"aop3\"]} + {exams[\"regT\"]}')\n",
        "  print (\"Status do Aluno: \", end=' ')\n",
        "  match status :\n",
        "    case 0 :\n",
        "      print (statusOption(status))\n",
        "    case 1 :\n",
        "      print (statusOption(status))\n",
        "      recGrade = float (input (\"Digite a Nota da PROVA de RECUPERAÇÃO: \"))\n",
        "      while not (evalGrade (\"recT\", recGrade)) :\n",
        "        print (\"Nota Inválida!\")\n",
        "        recGrade = float (input (\"Digite a Nota da PROVA de RECUPERAÇÃO: \"))\n",
        "      secGrade = secondChance (regularGrades, recGrade)\n",
        "      print (\"Status do Aluno: \", end=' ')\n",
        "      if secGrade < 5 :\n",
        "        status = 0\n",
        "        print (statusOption(status))\n",
        "      else :\n",
        "        status = 2\n",
        "        print (statusOption(status))\n",
        "    case _ :\n",
        "      print (statusOption(status))\n",
        "  return status"
      ],
      "metadata": {
        "id": "ByITR_1EJzIb"
      },
      "execution_count": null,
      "outputs": []
    },
    {
      "cell_type": "code",
      "source": [
        "def __main__ () :\n",
        "  stds = int (input (\"Informe a quantidade de alunos a incluir: \"))\n",
        "  loops = stds\n",
        "  stdNum = 1 + stds - stds\n",
        "  totals = [0, 0, 0]\n",
        "  while loops > 0 :\n",
        "    print (f'Notas do aluno {stdNum}')\n",
        "    status = getStudantGrades ()\n",
        "    totals[status] += 1\n",
        "    loops -= 1\n",
        "    stdNum += 1\n",
        "  print (f'Aprovados : {totals[2]} ({totals[2]/stds*100}%)')\n",
        "  print (f'Reprovados: {totals[0]} ({totals[0]/stds*100}%)')\n",
        "  return"
      ],
      "metadata": {
        "id": "EpTCAaWwlH1l"
      },
      "execution_count": null,
      "outputs": []
    }
  ]
}